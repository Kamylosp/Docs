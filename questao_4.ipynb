{
 "cells": [
  {
   "attachments": {},
   "cell_type": "markdown",
   "metadata": {},
   "source": [
    "# Dúvida questão 4 da lista\n",
    "\n",
    "Esses cálculos foram feitos de acordo com os dados informados no enunciado e pelos valores dados e esperados na correção do Moodle para o Metano."
   ]
  },
  {
   "cell_type": "code",
   "execution_count": 6,
   "metadata": {},
   "outputs": [],
   "source": [
    "import numpy as np\n",
    "\n",
    "R = 0.518\n",
    "T = 273.15 - 40"
   ]
  },
  {
   "cell_type": "code",
   "execution_count": 7,
   "metadata": {},
   "outputs": [],
   "source": [
    "# Composto: Methane\n",
    "temp_crit = 190.6\n",
    "\n",
    "\n",
    "# Antes pres-crit = 45.99\n",
    "pres_crit = 4599\n",
    "\n",
    "# Output esperado de acordo com o Moodle\n",
    "massa_esperada = 1069.0033540184766"
   ]
  },
  {
   "attachments": {},
   "cell_type": "markdown",
   "metadata": {},
   "source": [
    "$v = \\frac {V}{m}$\n",
    "\n",
    "$v$ = Volume específico ($\\frac  {m^{3}}{kg}$) <br>\n",
    "$V$ = Volume ($m^{3}$) <br>\n",
    "$m$ = Massa (${kg}$)"
   ]
  },
  {
   "cell_type": "code",
   "execution_count": 8,
   "metadata": {},
   "outputs": [],
   "source": [
    "v = (3)/(massa_esperada)"
   ]
  },
  {
   "cell_type": "code",
   "execution_count": 9,
   "metadata": {},
   "outputs": [],
   "source": [
    "a = (0.427 * (R*R) * np.power(temp_crit, 2.5)) / (pres_crit)\n",
    "b = (0.0866 * R * temp_crit) / (pres_crit)"
   ]
  },
  {
   "cell_type": "code",
   "execution_count": 10,
   "metadata": {},
   "outputs": [
    {
     "name": "stdout",
     "output_type": "stream",
     "text": [
      "65000.00000000009\n"
     ]
    }
   ],
   "source": [
    "p = (R*T)/(v-b) - a / (v * (v+b) * np.sqrt(T))\n",
    "\n",
    "print(p)"
   ]
  }
 ],
 "metadata": {
  "kernelspec": {
   "display_name": "Python 3",
   "language": "python",
   "name": "python3"
  },
  "language_info": {
   "codemirror_mode": {
    "name": "ipython",
    "version": 3
   },
   "file_extension": ".py",
   "mimetype": "text/x-python",
   "name": "python",
   "nbconvert_exporter": "python",
   "pygments_lexer": "ipython3",
   "version": "3.9.4"
  },
  "orig_nbformat": 4
 },
 "nbformat": 4,
 "nbformat_minor": 2
}
